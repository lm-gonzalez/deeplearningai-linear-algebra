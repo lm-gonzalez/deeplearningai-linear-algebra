{
 "cells": [
  {
   "cell_type": "code",
   "execution_count": 2,
   "id": "laden-poetry",
   "metadata": {},
   "outputs": [],
   "source": [
    "import numpy as np"
   ]
  },
  {
   "cell_type": "code",
   "execution_count": 16,
   "id": "laden-retreat",
   "metadata": {},
   "outputs": [
    {
     "name": "stdout",
     "output_type": "stream",
     "text": [
      "[[2. 5.]\n",
      " [8. 1.]]\n"
     ]
    }
   ],
   "source": [
    "A = np.array([[2, 5],[8, 1]], dtype=np.dtype(float))\n",
    "print(A)"
   ]
  },
  {
   "cell_type": "code",
   "execution_count": 17,
   "id": "universal-california",
   "metadata": {},
   "outputs": [
    {
     "name": "stdout",
     "output_type": "stream",
     "text": [
      "[[46.]\n",
      " [32.]]\n"
     ]
    }
   ],
   "source": [
    "b = np.array([46,32], dtype=np.dtype(float)).reshape(2, 1)\n",
    "print(b)"
   ]
  },
  {
   "cell_type": "code",
   "execution_count": 20,
   "id": "rising-vinyl",
   "metadata": {},
   "outputs": [
    {
     "name": "stdout",
     "output_type": "stream",
     "text": [
      "[[ 2.  5. 46.]\n",
      " [ 8.  1. 32.]]\n"
     ]
    }
   ],
   "source": [
    "M = np.hstack((A,b))\n",
    "print(M)"
   ]
  },
  {
   "cell_type": "code",
   "execution_count": 21,
   "id": "productive-diamond",
   "metadata": {},
   "outputs": [
    {
     "name": "stdout",
     "output_type": "stream",
     "text": [
      "[[ 1.     2.5   23.   ]\n",
      " [ 1.     0.125  4.   ]]\n"
     ]
    }
   ],
   "source": [
    "M[0,:]=M[0,:]/2\n",
    "M[1,:]=M[1,:]/8\n",
    "print(M)"
   ]
  },
  {
   "cell_type": "code",
   "execution_count": 22,
   "id": "agricultural-express",
   "metadata": {},
   "outputs": [
    {
     "name": "stdout",
     "output_type": "stream",
     "text": [
      "[[  1.      2.5    23.   ]\n",
      " [  0.     -2.375 -19.   ]]\n"
     ]
    }
   ],
   "source": [
    "M[1,:]=M[1,:]-M[0,:]\n",
    "print(M)"
   ]
  },
  {
   "cell_type": "code",
   "execution_count": 23,
   "id": "complex-agreement",
   "metadata": {},
   "outputs": [
    {
     "name": "stdout",
     "output_type": "stream",
     "text": [
      "8.0\n"
     ]
    }
   ],
   "source": [
    "x_2=-19./-2.375\n",
    "print(x_2)"
   ]
  },
  {
   "cell_type": "code",
   "execution_count": 24,
   "id": "provincial-perspective",
   "metadata": {},
   "outputs": [
    {
     "name": "stdout",
     "output_type": "stream",
     "text": [
      "3.0\n"
     ]
    }
   ],
   "source": [
    "x_1=23.-2.5*8.0\n",
    "print(x_1)"
   ]
  },
  {
   "cell_type": "code",
   "execution_count": 25,
   "id": "equivalent-essence",
   "metadata": {},
   "outputs": [
    {
     "data": {
      "text/plain": [
       "array([[3.],\n",
       "       [8.]])"
      ]
     },
     "execution_count": 25,
     "metadata": {},
     "output_type": "execute_result"
    }
   ],
   "source": [
    "np.linalg.solve(A,b)"
   ]
  },
  {
   "cell_type": "code",
   "execution_count": 26,
   "id": "skilled-northern",
   "metadata": {},
   "outputs": [
    {
     "name": "stdout",
     "output_type": "stream",
     "text": [
      "[[ 1.  1.]\n",
      " [-6.  2.]]\n"
     ]
    }
   ],
   "source": [
    "A = np.array([[1, 1],[-6, 2]], dtype=np.dtype(float))\n",
    "print(A)"
   ]
  },
  {
   "cell_type": "code",
   "execution_count": 27,
   "id": "selected-taylor",
   "metadata": {},
   "outputs": [
    {
     "name": "stdout",
     "output_type": "stream",
     "text": [
      "[[ 4.]\n",
      " [16.]]\n"
     ]
    }
   ],
   "source": [
    "b = np.array([4,16], dtype=np.dtype(float)).reshape(2, 1)\n",
    "print(b)"
   ]
  },
  {
   "cell_type": "code",
   "execution_count": 28,
   "id": "dirty-bikini",
   "metadata": {},
   "outputs": [
    {
     "name": "stdout",
     "output_type": "stream",
     "text": [
      "[[ 1.  1.  4.]\n",
      " [-6.  2. 16.]]\n"
     ]
    }
   ],
   "source": [
    "M = np.hstack((A,b))\n",
    "print(M)"
   ]
  },
  {
   "cell_type": "code",
   "execution_count": 29,
   "id": "solved-parking",
   "metadata": {},
   "outputs": [
    {
     "name": "stdout",
     "output_type": "stream",
     "text": [
      "[[ 1.          1.          4.        ]\n",
      " [ 1.         -0.33333333 -2.66666667]]\n"
     ]
    }
   ],
   "source": [
    "M[0,:]=M[0,:]/1\n",
    "M[1,:]=M[1,:]/(-6)\n",
    "print(M)"
   ]
  },
  {
   "cell_type": "code",
   "execution_count": 30,
   "id": "consecutive-globe",
   "metadata": {},
   "outputs": [
    {
     "name": "stdout",
     "output_type": "stream",
     "text": [
      "[[ 1.          1.          4.        ]\n",
      " [ 0.         -1.33333333 -6.66666667]]\n"
     ]
    }
   ],
   "source": [
    "M[1,:]=M[1,:]-M[0,:]\n",
    "print(M)"
   ]
  },
  {
   "cell_type": "code",
   "execution_count": 31,
   "id": "stock-begin",
   "metadata": {},
   "outputs": [
    {
     "data": {
      "text/plain": [
       "5.0"
      ]
     },
     "execution_count": 31,
     "metadata": {},
     "output_type": "execute_result"
    }
   ],
   "source": [
    "M[1,2]/M[1,1]"
   ]
  },
  {
   "cell_type": "code",
   "execution_count": 32,
   "id": "hollow-wireless",
   "metadata": {},
   "outputs": [
    {
     "name": "stdout",
     "output_type": "stream",
     "text": [
      "[[ 4. -3.]\n",
      " [ 7. -8.]]\n"
     ]
    }
   ],
   "source": [
    "A = np.array([[4, -3],[7, -8]], dtype=np.dtype(float))\n",
    "print(A)"
   ]
  },
  {
   "cell_type": "code",
   "execution_count": 34,
   "id": "frozen-lemon",
   "metadata": {},
   "outputs": [
    {
     "data": {
      "text/plain": [
       "-11.0"
      ]
     },
     "execution_count": 34,
     "metadata": {},
     "output_type": "execute_result"
    }
   ],
   "source": [
    "A[0,0]*A[1,1]-A[0,1]*A[1,0]"
   ]
  },
  {
   "cell_type": "code",
   "execution_count": 35,
   "id": "affected-triangle",
   "metadata": {},
   "outputs": [
    {
     "data": {
      "text/plain": [
       "-10.999999999999996"
      ]
     },
     "execution_count": 35,
     "metadata": {},
     "output_type": "execute_result"
    }
   ],
   "source": [
    "np.linalg.det(A)"
   ]
  },
  {
   "cell_type": "code",
   "execution_count": 36,
   "id": "operational-seeker",
   "metadata": {},
   "outputs": [
    {
     "name": "stdout",
     "output_type": "stream",
     "text": [
      "[[-3.  8.  1.]\n",
      " [ 2.  2. -1.]\n",
      " [-5.  6.  2.]]\n"
     ]
    }
   ],
   "source": [
    "A = np.array([[-3,8,1],[2,2,-1],[-5,6,2]], dtype=np.dtype(float))\n",
    "print(A)"
   ]
  },
  {
   "cell_type": "code",
   "execution_count": 37,
   "id": "monthly-denial",
   "metadata": {},
   "outputs": [
    {
     "data": {
      "text/plain": [
       "-5.495603971894542e-15"
      ]
     },
     "execution_count": 37,
     "metadata": {},
     "output_type": "execute_result"
    }
   ],
   "source": [
    "np.linalg.det(A)"
   ]
  },
  {
   "cell_type": "code",
   "execution_count": 48,
   "id": "steady-training",
   "metadata": {},
   "outputs": [
    {
     "name": "stdout",
     "output_type": "stream",
     "text": [
      "[[ 1.0e+00  1.0e+00  1.0e+00  1.0e+04]\n",
      " [ 2.0e+00  3.0e+00  4.0e+00  2.6e+04]\n",
      " [ 1.0e+00 -2.0e+00  0.0e+00  0.0e+00]]\n"
     ]
    }
   ],
   "source": [
    "M=np.array([[1,1,1,10000],[2,3,4,26000],[1,-2,0,0]], dtype=np.dtype(float))\n",
    "print(M)"
   ]
  },
  {
   "cell_type": "code",
   "execution_count": 49,
   "id": "balanced-parts",
   "metadata": {},
   "outputs": [
    {
     "name": "stdout",
     "output_type": "stream",
     "text": [
      "[[ 1.0e+00  1.0e+00  1.0e+00  1.0e+04]\n",
      " [ 1.0e+00  1.5e+00  2.0e+00  1.3e+04]\n",
      " [ 1.0e+00 -2.0e+00  0.0e+00  0.0e+00]]\n"
     ]
    }
   ],
   "source": [
    "M[1,:]=M[1,:]/2\n",
    "print(M)"
   ]
  },
  {
   "cell_type": "code",
   "execution_count": 50,
   "id": "veterinary-jordan",
   "metadata": {},
   "outputs": [
    {
     "name": "stdout",
     "output_type": "stream",
     "text": [
      "[[ 1.e+00  1.e+00  1.e+00  1.e+04]\n",
      " [ 0.e+00  5.e-01  1.e+00  3.e+03]\n",
      " [ 0.e+00 -3.e+00 -1.e+00 -1.e+04]]\n"
     ]
    }
   ],
   "source": [
    "M[1,:]=M[1,:]-M[0,:]\n",
    "M[2,:]=M[2,:]-M[0,:]\n",
    "print(M)"
   ]
  },
  {
   "cell_type": "code",
   "execution_count": 51,
   "id": "logical-disability",
   "metadata": {},
   "outputs": [
    {
     "name": "stdout",
     "output_type": "stream",
     "text": [
      "[[ 1.00000000e+00  1.00000000e+00  1.00000000e+00  1.00000000e+04]\n",
      " [ 0.00000000e+00  1.00000000e+00  2.00000000e+00  6.00000000e+03]\n",
      " [-0.00000000e+00  1.00000000e+00  3.33333333e-01  3.33333333e+03]]\n"
     ]
    }
   ],
   "source": [
    "M[1,:]=M[1,:]/M[1,1]\n",
    "M[2,:]=M[2,:]/M[2,1]\n",
    "print(M)"
   ]
  },
  {
   "cell_type": "code",
   "execution_count": 52,
   "id": "crucial-jonathan",
   "metadata": {},
   "outputs": [
    {
     "name": "stdout",
     "output_type": "stream",
     "text": [
      "[[ 1.00000000e+00  1.00000000e+00  1.00000000e+00  1.00000000e+04]\n",
      " [ 0.00000000e+00  1.00000000e+00  2.00000000e+00  6.00000000e+03]\n",
      " [-0.00000000e+00  0.00000000e+00 -1.66666667e+00 -2.66666667e+03]]\n"
     ]
    }
   ],
   "source": [
    "M[2,:]=M[2,:]-M[1,:]\n",
    "print(M)"
   ]
  },
  {
   "cell_type": "code",
   "execution_count": 53,
   "id": "mighty-appointment",
   "metadata": {},
   "outputs": [
    {
     "data": {
      "text/plain": [
       "1599.9999999999998"
      ]
     },
     "execution_count": 53,
     "metadata": {},
     "output_type": "execute_result"
    }
   ],
   "source": [
    "M[2,3]/M[2,2]"
   ]
  },
  {
   "cell_type": "code",
   "execution_count": 6,
   "id": "large-heart",
   "metadata": {},
   "outputs": [
    {
     "data": {
      "text/plain": [
       "-34.00000000000001"
      ]
     },
     "execution_count": 6,
     "metadata": {},
     "output_type": "execute_result"
    }
   ],
   "source": [
    "A=np.array([[7,5,3],[3,2,5],[1,2,1]], dtype=np.dtype(float))\n",
    "np.linalg.det(A)"
   ]
  },
  {
   "cell_type": "code",
   "execution_count": 7,
   "id": "textile-venezuela",
   "metadata": {},
   "outputs": [],
   "source": [
    "b=np.array([120,70,20], dtype=np.dtype(float))"
   ]
  },
  {
   "cell_type": "code",
   "execution_count": 13,
   "id": "tested-palestinian",
   "metadata": {},
   "outputs": [
    {
     "name": "stdout",
     "output_type": "stream",
     "text": [
      "[[  7.   5.   3. 120.]\n",
      " [  3.   2.   5.  70.]\n",
      " [  1.   2.   1.  20.]]\n"
     ]
    }
   ],
   "source": [
    "M=np.hstack((A,b.reshape(3,1)))\n",
    "print(M)"
   ]
  },
  {
   "cell_type": "code",
   "execution_count": 9,
   "id": "scheduled-enzyme",
   "metadata": {},
   "outputs": [
    {
     "data": {
      "text/plain": [
       "array([[120.],\n",
       "       [ 70.],\n",
       "       [ 20.]])"
      ]
     },
     "execution_count": 9,
     "metadata": {},
     "output_type": "execute_result"
    }
   ],
   "source": [
    "b.reshape((3,1)"
   ]
  },
  {
   "cell_type": "code",
   "execution_count": 14,
   "id": "public-spectrum",
   "metadata": {},
   "outputs": [],
   "source": [
    "M[0,:]=M[0,:]/7\n",
    "M[1,:]=M[1,:]/3"
   ]
  },
  {
   "cell_type": "code",
   "execution_count": 15,
   "id": "cooked-adobe",
   "metadata": {},
   "outputs": [],
   "source": [
    "M[1,:]=M[1,:]-M[0,:]\n",
    "M[2,:]=M[2,:]-M[0,:]"
   ]
  },
  {
   "cell_type": "code",
   "execution_count": 16,
   "id": "electrical-softball",
   "metadata": {},
   "outputs": [
    {
     "name": "stdout",
     "output_type": "stream",
     "text": [
      "[[ 1.          0.71428571  0.42857143 17.14285714]\n",
      " [ 0.         -0.04761905  1.23809524  6.19047619]\n",
      " [ 0.          1.28571429  0.57142857  2.85714286]]\n"
     ]
    }
   ],
   "source": [
    "print(M)"
   ]
  },
  {
   "cell_type": "code",
   "execution_count": 18,
   "id": "reported-pleasure",
   "metadata": {},
   "outputs": [
    {
     "name": "stdout",
     "output_type": "stream",
     "text": [
      "[[   1.            0.71428571    0.42857143   17.14285714]\n",
      " [  -0.            1.          -26.         -130.        ]\n",
      " [   0.            1.            0.44444444    2.22222222]]\n"
     ]
    }
   ],
   "source": [
    "M[1,:]=M[1,:]/M[1,1]\n",
    "M[2,:]=M[2,:]/M[2,1]\n",
    "print(M)"
   ]
  },
  {
   "cell_type": "code",
   "execution_count": 19,
   "id": "hollow-gossip",
   "metadata": {},
   "outputs": [
    {
     "name": "stdout",
     "output_type": "stream",
     "text": [
      "[[   1.            0.71428571    0.42857143   17.14285714]\n",
      " [  -0.            1.          -26.         -130.        ]\n",
      " [   0.            0.           26.44444444  132.22222222]]\n"
     ]
    }
   ],
   "source": [
    "M[2,:]=M[2,:]-M[1,:]\n",
    "print(M)"
   ]
  },
  {
   "cell_type": "code",
   "execution_count": 20,
   "id": "pharmaceutical-gravity",
   "metadata": {},
   "outputs": [],
   "source": [
    "M[2,:]=M[2,:]/M[2,2]"
   ]
  },
  {
   "cell_type": "code",
   "execution_count": 21,
   "id": "consistent-rally",
   "metadata": {},
   "outputs": [
    {
     "data": {
      "text/plain": [
       "array([[   1.        ,    0.71428571,    0.42857143,   17.14285714],\n",
       "       [  -0.        ,    1.        ,  -26.        , -130.        ],\n",
       "       [   0.        ,    0.        ,    1.        ,    5.        ]])"
      ]
     },
     "execution_count": 21,
     "metadata": {},
     "output_type": "execute_result"
    }
   ],
   "source": [
    "M"
   ]
  },
  {
   "cell_type": "code",
   "execution_count": 22,
   "id": "metric-string",
   "metadata": {},
   "outputs": [
    {
     "name": "stdout",
     "output_type": "stream",
     "text": [
      "[[1.00000000e+00 7.14285714e-01 4.28571429e-01 1.71428571e+01]\n",
      " [0.00000000e+00 1.00000000e+00 2.84217094e-14 1.42108547e-13]\n",
      " [0.00000000e+00 0.00000000e+00 1.00000000e+00 5.00000000e+00]]\n"
     ]
    }
   ],
   "source": [
    "M[1,:]=M[1,:]+M[2,:]*26\n",
    "print(M)"
   ]
  },
  {
   "cell_type": "code",
   "execution_count": 23,
   "id": "italic-sally",
   "metadata": {},
   "outputs": [],
   "source": [
    "M[1,:]=M[1,:]/M[1,2]"
   ]
  },
  {
   "cell_type": "code",
   "execution_count": 24,
   "id": "serious-italian",
   "metadata": {},
   "outputs": [
    {
     "data": {
      "text/plain": [
       "array([[1.00000000e+00, 7.14285714e-01, 4.28571429e-01, 1.71428571e+01],\n",
       "       [0.00000000e+00, 3.51843721e+13, 1.00000000e+00, 5.00000000e+00],\n",
       "       [0.00000000e+00, 0.00000000e+00, 1.00000000e+00, 5.00000000e+00]])"
      ]
     },
     "execution_count": 24,
     "metadata": {},
     "output_type": "execute_result"
    }
   ],
   "source": [
    "M"
   ]
  },
  {
   "cell_type": "code",
   "execution_count": 25,
   "id": "first-friendly",
   "metadata": {},
   "outputs": [
    {
     "data": {
      "text/plain": [
       "array([15.,  0.,  5.])"
      ]
     },
     "execution_count": 25,
     "metadata": {},
     "output_type": "execute_result"
    }
   ],
   "source": [
    "np.linalg.solve(A,b)"
   ]
  },
  {
   "cell_type": "code",
   "execution_count": null,
   "id": "secondary-passage",
   "metadata": {},
   "outputs": [],
   "source": []
  }
 ],
 "metadata": {
  "kernelspec": {
   "display_name": "Python 3",
   "language": "python",
   "name": "python3"
  },
  "language_info": {
   "codemirror_mode": {
    "name": "ipython",
    "version": 3
   },
   "file_extension": ".py",
   "mimetype": "text/x-python",
   "name": "python",
   "nbconvert_exporter": "python",
   "pygments_lexer": "ipython3",
   "version": "3.8.8"
  }
 },
 "nbformat": 4,
 "nbformat_minor": 5
}
